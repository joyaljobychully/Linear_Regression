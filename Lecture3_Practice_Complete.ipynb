{
 "cells": [
  {
   "cell_type": "markdown",
   "metadata": {},
   "source": [
    "# Lecture 3 Regression Analysis"
   ]
  },
  {
   "cell_type": "code",
   "execution_count": 1,
   "metadata": {},
   "outputs": [],
   "source": [
    "# import necessary libraries and specify that graphs should be plotted inline\n",
    "%matplotlib inline \n",
    "import numpy as np\n",
    "import pandas as pd\n",
    "import sklearn\n",
    "import matplotlib.pyplot as plt\n"
   ]
  },
  {
   "cell_type": "markdown",
   "metadata": {},
   "source": [
    "## 1. Linear Regression Analysis"
   ]
  },
  {
   "cell_type": "markdown",
   "metadata": {},
   "source": [
    "We will use Scikit-Learn for regression analysis. Scikit-Learn is one of the best known Python packages that provide efficient versions of a large number of common algorithms. \n",
    "\n",
    "After preparing the data, the regression analysis in general consists of the following steps: (1) loading data and select variables for analysis; (2) data splitting; (3) define the model and feed the training dataset into the model; (4) prediction; and (5) performance evaluation. Step 3 is also known as \"training the model\", which returns the parameters of interest and may take some time if your data is huge.\n",
    "\n",
    "### 1.1(a) Data Description\n",
    "We will use another housing dataset, house.csv. Our goal is to predict the **'TOTAL_VALUE'** of the houses. Other important variables are: \n",
    "- **TAX**: Tax bill amount of the property.\n",
    "- **LOT_SQFT**: Total lot size in square feet.\n",
    "- **GROSS_AREA**: gross floor area.\n",
    "- **FLOORS**: Number of floors.\n",
    "- **ROOMS**: Number of rooms.\n"
   ]
  },
  {
   "cell_type": "code",
   "execution_count": 2,
   "metadata": {},
   "outputs": [
    {
     "name": "stdout",
     "output_type": "stream",
     "text": [
      "(5802, 12)\n",
      "Index(['TOTAL_VALUE', 'TAX', 'LOT_SQFT', 'GROSS_AREA', 'LIVING_AREA', 'FLOORS',\n",
      "       'ROOMS', 'BEDROOMS', 'FULL_BATH', 'HALF_BATH', 'KITCHEN', 'FIREPLACE'],\n",
      "      dtype='object')\n"
     ]
    }
   ],
   "source": [
    "## Load the data, print the dimensions and variable names\n",
    "house = pd.read_csv('house.csv')   # loading data, data is called \"house\"\n",
    "print(house.shape)      # get record and variable counts \n",
    "print(house.columns)    # get variable names"
   ]
  },
  {
   "cell_type": "code",
   "execution_count": 3,
   "metadata": {},
   "outputs": [
    {
     "data": {
      "text/html": [
       "<div>\n",
       "<style scoped>\n",
       "    .dataframe tbody tr th:only-of-type {\n",
       "        vertical-align: middle;\n",
       "    }\n",
       "\n",
       "    .dataframe tbody tr th {\n",
       "        vertical-align: top;\n",
       "    }\n",
       "\n",
       "    .dataframe thead th {\n",
       "        text-align: right;\n",
       "    }\n",
       "</style>\n",
       "<table border=\"1\" class=\"dataframe\">\n",
       "  <thead>\n",
       "    <tr style=\"text-align: right;\">\n",
       "      <th></th>\n",
       "      <th>TOTAL_VALUE</th>\n",
       "      <th>TAX</th>\n",
       "      <th>LOT_SQFT</th>\n",
       "      <th>GROSS_AREA</th>\n",
       "      <th>LIVING_AREA</th>\n",
       "      <th>FLOORS</th>\n",
       "      <th>ROOMS</th>\n",
       "      <th>BEDROOMS</th>\n",
       "      <th>FULL_BATH</th>\n",
       "      <th>HALF_BATH</th>\n",
       "      <th>KITCHEN</th>\n",
       "      <th>FIREPLACE</th>\n",
       "    </tr>\n",
       "  </thead>\n",
       "  <tbody>\n",
       "    <tr>\n",
       "      <th>0</th>\n",
       "      <td>344.2</td>\n",
       "      <td>4330</td>\n",
       "      <td>9965</td>\n",
       "      <td>2436</td>\n",
       "      <td>1352</td>\n",
       "      <td>2.0</td>\n",
       "      <td>6</td>\n",
       "      <td>3</td>\n",
       "      <td>1</td>\n",
       "      <td>1</td>\n",
       "      <td>1</td>\n",
       "      <td>0</td>\n",
       "    </tr>\n",
       "    <tr>\n",
       "      <th>1</th>\n",
       "      <td>412.6</td>\n",
       "      <td>5190</td>\n",
       "      <td>6590</td>\n",
       "      <td>3108</td>\n",
       "      <td>1976</td>\n",
       "      <td>2.0</td>\n",
       "      <td>10</td>\n",
       "      <td>4</td>\n",
       "      <td>2</td>\n",
       "      <td>1</td>\n",
       "      <td>1</td>\n",
       "      <td>0</td>\n",
       "    </tr>\n",
       "    <tr>\n",
       "      <th>2</th>\n",
       "      <td>330.1</td>\n",
       "      <td>4152</td>\n",
       "      <td>7500</td>\n",
       "      <td>2294</td>\n",
       "      <td>1371</td>\n",
       "      <td>2.0</td>\n",
       "      <td>8</td>\n",
       "      <td>4</td>\n",
       "      <td>1</td>\n",
       "      <td>1</td>\n",
       "      <td>1</td>\n",
       "      <td>0</td>\n",
       "    </tr>\n",
       "    <tr>\n",
       "      <th>3</th>\n",
       "      <td>498.6</td>\n",
       "      <td>6272</td>\n",
       "      <td>13773</td>\n",
       "      <td>5032</td>\n",
       "      <td>2608</td>\n",
       "      <td>1.0</td>\n",
       "      <td>9</td>\n",
       "      <td>5</td>\n",
       "      <td>1</td>\n",
       "      <td>1</td>\n",
       "      <td>1</td>\n",
       "      <td>1</td>\n",
       "    </tr>\n",
       "    <tr>\n",
       "      <th>4</th>\n",
       "      <td>331.5</td>\n",
       "      <td>4170</td>\n",
       "      <td>5000</td>\n",
       "      <td>2370</td>\n",
       "      <td>1438</td>\n",
       "      <td>2.0</td>\n",
       "      <td>7</td>\n",
       "      <td>3</td>\n",
       "      <td>2</td>\n",
       "      <td>0</td>\n",
       "      <td>1</td>\n",
       "      <td>0</td>\n",
       "    </tr>\n",
       "  </tbody>\n",
       "</table>\n",
       "</div>"
      ],
      "text/plain": [
       "   TOTAL_VALUE   TAX  LOT_SQFT  GROSS_AREA  LIVING_AREA  FLOORS  ROOMS  \\\n",
       "0        344.2  4330      9965        2436         1352     2.0      6   \n",
       "1        412.6  5190      6590        3108         1976     2.0     10   \n",
       "2        330.1  4152      7500        2294         1371     2.0      8   \n",
       "3        498.6  6272     13773        5032         2608     1.0      9   \n",
       "4        331.5  4170      5000        2370         1438     2.0      7   \n",
       "\n",
       "   BEDROOMS  FULL_BATH  HALF_BATH  KITCHEN  FIREPLACE  \n",
       "0         3          1          1        1          0  \n",
       "1         4          2          1        1          0  \n",
       "2         4          1          1        1          0  \n",
       "3         5          1          1        1          1  \n",
       "4         3          2          0        1          0  "
      ]
     },
     "execution_count": 3,
     "metadata": {},
     "output_type": "execute_result"
    }
   ],
   "source": [
    "## show the first several rows of data.\n",
    "house.head()   "
   ]
  },
  {
   "cell_type": "markdown",
   "metadata": {},
   "source": [
    "### 1.1(b) Data Representation in Scikit-Learn\n",
    "We need to prepare the dataset so that sklearn understands. Specifically, we need:\n",
    "1. Attribute Matrix (X): a two-dimentional matrix, can be Numpy array or Pandas Dataframe. Rows must be observations, and columns must be variables.\n",
    "    - Note: you may have only one variable, but make sure it is a 2D matrix!\n",
    "2. Target Array (Y): one-dimensional, Numpy array or Pandas Serires. "
   ]
  },
  {
   "cell_type": "markdown",
   "metadata": {},
   "source": [
    "For now, consider the following variables for the regression (in practice, you need to use your domain knowledge and exploratory data analysis).\n",
    "\n",
    "<center><b>'TAX', 'FLOORS', 'ROOMS'</b></center>"
   ]
  },
  {
   "cell_type": "code",
   "execution_count": 4,
   "metadata": {},
   "outputs": [
    {
     "data": {
      "text/plain": [
       "((5802, 3), (5802,))"
      ]
     },
     "execution_count": 4,
     "metadata": {},
     "output_type": "execute_result"
    }
   ],
   "source": [
    "# Choose predictors to construct attribute matrix (X) and target (Y) accordingly.\n",
    "var = ['TAX', 'FLOORS', 'ROOMS'] # define a list of variables. \n",
    "                                 # Spelling should be the same as house.columns\n",
    "house_X = house[var]             # Define the X to be used (i.e., based on selected var)\n",
    "house_y = house['TOTAL_VALUE']   # Define the Y\n",
    "\n",
    "house_X.shape, house_y.shape"
   ]
  },
  {
   "cell_type": "code",
   "execution_count": 5,
   "metadata": {},
   "outputs": [
    {
     "name": "stdout",
     "output_type": "stream",
     "text": [
      "(5802, 3)\n",
      "(5802,)\n"
     ]
    }
   ],
   "source": [
    "# Print dimensions\n",
    "print(house_X.shape)\n",
    "print(house_y.shape)"
   ]
  },
  {
   "cell_type": "markdown",
   "metadata": {},
   "source": [
    "### 1.2 Split the Data"
   ]
  },
  {
   "cell_type": "markdown",
   "metadata": {},
   "source": [
    "Recall that we train our model only on training set. So we need to first split our data into two parts: training set and test set. "
   ]
  },
  {
   "cell_type": "markdown",
   "metadata": {},
   "source": [
    "To split our data, we use syntax:\n",
    "**<center>sklearn.model_selection.train_test_split(Data Inputs, test_size, random_state) </center>**\n",
    "- **test_size**: If float, should be between 0.0 and 1.0 and represent the proportion of the dataset to include in the validation split. If int, represents the absolute number of validation samples.\n",
    "- **random_state**: This parameter is for result reproduction/replication. If int, random_state is the seed used by the random number generator.\n",
    "\n",
    "**Output of data splitting function**\n",
    "- If you have one input data (e.g., X), then it will return two outputs with a specific order: X_train, X_test. X_test is defined based on \"test_size\". \n",
    "\n",
    "- If you have multiple inputs (e.g., X, y), then the outputs will be (ordered): X_train, X_test, y_train, y_test. \n",
    "- We use multiple assignment to collect the corresponding outputs.\n",
    "\n"
   ]
  },
  {
   "cell_type": "markdown",
   "metadata": {},
   "source": [
    "**Practice:** \n",
    "- Randomly split the dataset into 70% training and 30% test. Set random seed to 42.\n",
    "- Show how many observations are there in the training set and full set."
   ]
  },
  {
   "cell_type": "code",
   "execution_count": 8,
   "metadata": {},
   "outputs": [],
   "source": [
    "# Split the dataset\n",
    "from sklearn.model_selection import train_test_split\n",
    "train_test_split(house_X, house_y, test_size = 0.3, random_state = 42 )\n",
    "\n",
    "# Four outputs => multiple assignment\n",
    "X_train, X_test, y_train, y_test = train_test_split(house_X, house_y, \n",
    "                                                    test_size = 0.3, random_state = 42 )"
   ]
  },
  {
   "cell_type": "code",
   "execution_count": 10,
   "metadata": {},
   "outputs": [
    {
     "data": {
      "text/plain": [
       "((4061, 3), (1741, 3))"
      ]
     },
     "execution_count": 10,
     "metadata": {},
     "output_type": "execute_result"
    }
   ],
   "source": [
    "# show number of observations in the training set\n",
    "\n",
    "X_train.shape, X_test.shape"
   ]
  },
  {
   "cell_type": "markdown",
   "metadata": {},
   "source": [
    "### 1.3 Linear Regression Model\n",
    "\n",
    "Now we need to train our model. First, we initialize the regression model. That is, we import the model from Scikit-Learn and create the linear regression model instance.\n",
    "\n",
    "Use syntax:\n",
    "\n",
    "**<center>sklearn.linear_model.LinearRegression()</center>**\n"
   ]
  },
  {
   "cell_type": "code",
   "execution_count": 11,
   "metadata": {},
   "outputs": [],
   "source": [
    "from sklearn.linear_model import LinearRegression\n",
    "my_model = LinearRegression()\n"
   ]
  },
  {
   "cell_type": "markdown",
   "metadata": {},
   "source": [
    "The general workflow to apply ML algorithms using sklearn is the same. Specifically:\n",
    "- We need to first **train** our model. That is, we plug in our corresponding data so as to get resulting parameters.\n",
    "    - In sklearn, use .fit(INPUTS) to train the model. For supervised learning models, we need to let the model know both the X and the y. Thus, syntax would be **MODEL_NAME.fit(X_train, y_train)**\n",
    "\n",
    "- After training, we can get some outputs (e.g., parameters) and use the trained model for some further analysis/calculations (e.g., prediction). \n",
    "    - In sklearn, use .predict(INPUT) to get predictions of a **trained** model. This time, we are predicting y, thus, y should not be an input. The syntax would be **MODEL_NAME.predict(x)**\n",
    "\n",
    "- Performance evaluation is a key factor for supervised learning algorithms. \n",
    "    - In sklearn, use **MODEL_NAME.score(X, y)** to obtain the performance measure based on the inputs.\n",
    "\n",
    "Specific to linear regressions, we may also be interested in the parameter estimations. \n",
    "- To get parameters, use **MODEL_NAME.coef_**\n",
    "- To get intercept, use **MODEL_NAME.intercept_**\n",
    "\n",
    "**Practice:**\n",
    "- Train the model. Then obtain the coefficients (i.e., all parameter estimations, including the intercept) of model. Specify which one is the intercept."
   ]
  },
  {
   "cell_type": "code",
   "execution_count": 12,
   "metadata": {},
   "outputs": [
    {
     "data": {
      "text/plain": [
       "LinearRegression()"
      ]
     },
     "execution_count": 12,
     "metadata": {},
     "output_type": "execute_result"
    }
   ],
   "source": [
    "# Train the model using the training set\n",
    "my_model.fit(X_train, y_train)"
   ]
  },
  {
   "cell_type": "code",
   "execution_count": 16,
   "metadata": {},
   "outputs": [
    {
     "data": {
      "text/plain": [
       "(array([ 0.0795,  0.0003, -0.0003]), array(0.0397))"
      ]
     },
     "execution_count": 16,
     "metadata": {},
     "output_type": "execute_result"
    }
   ],
   "source": [
    "# Print out the coefficients\n",
    "# A Trick: set the precision for numpy arrays using \"np.set_printoptions\". Remember to load numpy.\n",
    "np.set_printoptions(precision=4, suppress=True) # True means to print as fixed point notation\n",
    "                                                # Available for np arrays\n",
    "my_model.coef_, my_model.intercept_\n",
    "\n",
    "my_model.coef_, np.array(my_model.intercept_)"
   ]
  },
  {
   "cell_type": "markdown",
   "metadata": {},
   "source": [
    "### 1.4 Predictions\n",
    "Once the model is trained, the main task is to evaluate it based on what it says about new data. In sklearn, we first obtain the predicted value, then calculate the corresponding performance measures. \n",
    "\n",
    "Recall that to obtain an unbiased performanve evaluation, and to avoid the overfitting problem, we need to get predictions for the **test set** and compare the predicted values to their true values. You can also make predictions for the training set (by changing the input argument of the predict() from X_test to X_train ), or any \"new\" sample, but these should not be used as performance measures of your model."
   ]
  },
  {
   "cell_type": "markdown",
   "metadata": {},
   "source": [
    "**Practice:**\n",
    "- Make prediction for test set\n",
    "- Predict for a new house with tax = 4330, floor = 2, and rooms = 6"
   ]
  },
  {
   "cell_type": "code",
   "execution_count": 18,
   "metadata": {},
   "outputs": [
    {
     "data": {
      "text/plain": [
       "(1741,)"
      ]
     },
     "execution_count": 18,
     "metadata": {},
     "output_type": "execute_result"
    }
   ],
   "source": [
    "# Test set prediction\n",
    "y_test_pred = my_model.predict(X_test)\n",
    "\n",
    "y_test_pred.shape"
   ]
  },
  {
   "cell_type": "code",
   "execution_count": 20,
   "metadata": {},
   "outputs": [
    {
     "data": {
      "text/plain": [
       "array([344.2371])"
      ]
     },
     "execution_count": 20,
     "metadata": {},
     "output_type": "execute_result"
    }
   ],
   "source": [
    "# New point prediction\n",
    "\n",
    "X_new = [[4330, 2 ,6]]  # Make sure 2D\n",
    "\n",
    "my_model.predict( X_new  )"
   ]
  },
  {
   "cell_type": "markdown",
   "metadata": {},
   "source": [
    "### 1.5 Performance Evaluation - Regression Models\n",
    "We consider two measures for performance evaluation: MAE and MSE.\n",
    "\n",
    "**Practice**\n",
    "- Compute the MAE for the test set. (Hint: to obtain absolute value, use np.abs())\n",
    "- Compute the MSE for the test set."
   ]
  },
  {
   "cell_type": "code",
   "execution_count": 26,
   "metadata": {},
   "outputs": [
    {
     "data": {
      "text/plain": [
       "0.0197332392421244"
      ]
     },
     "execution_count": 26,
     "metadata": {},
     "output_type": "execute_result"
    }
   ],
   "source": [
    "# MAE\n",
    "\n",
    "e = y_test - y_test_pred\n",
    "\n",
    "MAE = np.sum(np.abs(e))/y_test.shape\n",
    "\n",
    "## 0.0197\n",
    "\n",
    "MAE = np.mean(np.abs(e))\n",
    "\n",
    "MAE"
   ]
  },
  {
   "cell_type": "code",
   "execution_count": 32,
   "metadata": {},
   "outputs": [
    {
     "data": {
      "text/plain": [
       "(0.022841645211169725, 0.0005217407559529528)"
      ]
     },
     "execution_count": 32,
     "metadata": {},
     "output_type": "execute_result"
    }
   ],
   "source": [
    "# MSE\n",
    "MSE = np.mean(e**2)\n",
    "MSE\n",
    "\n",
    "RMSE = np.sqrt(np.mean(e**2))\n",
    "RMSE = np.mean(e**2)**0.5\n",
    "\n",
    "RMSE, MSE"
   ]
  },
  {
   "cell_type": "markdown",
   "metadata": {},
   "source": [
    "Many regression models also consider another measure, R-squared ($R^2$) to evaluate performance. Specifically:\n",
    "\n",
    "<br><center>$R^2 = 1 - RSS/TSS $ </center>\n",
    "\n",
    "where RSS is the sum-squared residual (i.e., n* MSE); and TSS is the total sum of squares. Specifically, $ TSS = \\sum(y_i - \\bar{y})^2$\n",
    "    \n",
    "\n",
    "Thus, R-squared shows, how well the model captures the variance of the data. A higher R-squared value indicates a better performance. Technically, we do not need to manually calculate R-squared. Instead, we can obtain this measure through .score method."
   ]
  },
  {
   "cell_type": "code",
   "execution_count": 33,
   "metadata": {},
   "outputs": [
    {
     "data": {
      "text/plain": [
       "0.9999999499089725"
      ]
     },
     "execution_count": 33,
     "metadata": {},
     "output_type": "execute_result"
    }
   ],
   "source": [
    "my_model.score(X_test, y_test)"
   ]
  },
  {
   "cell_type": "code",
   "execution_count": 34,
   "metadata": {},
   "outputs": [
    {
     "data": {
      "text/plain": [
       "0.9999999464980553"
      ]
     },
     "execution_count": 34,
     "metadata": {},
     "output_type": "execute_result"
    }
   ],
   "source": [
    "my_model.score(X_train, y_train)"
   ]
  },
  {
   "cell_type": "code",
   "execution_count": null,
   "metadata": {},
   "outputs": [],
   "source": []
  }
 ],
 "metadata": {
  "kernelspec": {
   "display_name": "Python 3",
   "language": "python",
   "name": "python3"
  },
  "language_info": {
   "codemirror_mode": {
    "name": "ipython",
    "version": 3
   },
   "file_extension": ".py",
   "mimetype": "text/x-python",
   "name": "python",
   "nbconvert_exporter": "python",
   "pygments_lexer": "ipython3",
   "version": "3.8.8"
  }
 },
 "nbformat": 4,
 "nbformat_minor": 4
}
